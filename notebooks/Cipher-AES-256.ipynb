{
 "cells": [
  {
   "cell_type": "code",
   "execution_count": 1,
   "id": "dc64ff64-7233-4794-9814-7b03233d47b9",
   "metadata": {},
   "outputs": [],
   "source": [
    "from cryptography.hazmat.primitives.ciphers import Cipher, algorithms, modes\n",
    "from cryptography.hazmat.backends import default_backend\n",
    "from cryptography.hazmat.primitives import padding\n",
    "\n",
    "import os\n",
    "import base64\n",
    "import pandas as pd"
   ]
  },
  {
   "cell_type": "code",
   "execution_count": 2,
   "id": "4c3847ee-78ea-4f21-af7f-67dce0387527",
   "metadata": {},
   "outputs": [],
   "source": [
    "# Helper function to apply padding\n",
    "def pad(data):\n",
    "    padder = padding.PKCS7(128).padder()\n",
    "    padded_data = padder.update(data) + padder.finalize()\n",
    "    return padded_data\n",
    "\n",
    "# Helper function to remove padding\n",
    "def unpad(data):\n",
    "    unpadder = padding.PKCS7(128).unpadder()\n",
    "    unpadded_data = unpadder.update(data) + unpadder.finalize()\n",
    "    return unpadded_data"
   ]
  },
  {
   "cell_type": "code",
   "execution_count": 3,
   "id": "827b4bdf-a4ba-4f7c-bd45-69620768ca7a",
   "metadata": {},
   "outputs": [],
   "source": [
    "# Step 1: Generate a 256-bit (32-byte) AES key (run only once to create and save the key)\n",
    "def generate_key():\n",
    "    key = os.urandom(32)  # AES-256 requires a 256-bit key (32 bytes)\n",
    "    with open(\"./keys/aes-256-secret.key\", \"wb\") as key_file:\n",
    "        key_file.write(key)\n",
    "\n",
    "# Uncomment to generate a new key\n",
    "generate_key()"
   ]
  },
  {
   "cell_type": "code",
   "execution_count": 5,
   "id": "d23cb513-7e19-472a-8243-03a08005283e",
   "metadata": {},
   "outputs": [
    {
     "data": {
      "text/plain": [
       "b'\\x9a\\xbe\\x19\\xbc\\x0b{n\\xec\\x00\\xfbB`\\x02\\x02\\xcb\\xb1a\\x18ad\\xc6\\xee\\xc74?\\xbc\\xd5f\\xba/sY'"
      ]
     },
     "execution_count": 5,
     "metadata": {},
     "output_type": "execute_result"
    }
   ],
   "source": [
    "# Step 2: Load the AES key\n",
    "def load_key():\n",
    "    with open(\"./keys/aes-256-secret.key\", \"rb\") as key_file:\n",
    "        return key_file.read()\n",
    "\n",
    "load_key()"
   ]
  },
  {
   "cell_type": "code",
   "execution_count": 10,
   "id": "2f343ffc-5418-4135-8465-4beb5ae3d84d",
   "metadata": {},
   "outputs": [],
   "source": [
    "# Step 3: Encrypt a specific column in the CSV\n",
    "def encrypt_column(input_csv, output_csv, column_name):\n",
    "    key = load_key()\n",
    "    \n",
    "    # Load the CSV file\n",
    "    df = pd.read_csv(input_csv)\n",
    "    print(\"Before\", \"\\n\", df.head())\n",
    "    \n",
    "    # Encrypt the target column\n",
    "    encrypted_column = []\n",
    "    for value in df[column_name]:\n",
    "        iv = os.urandom(16)  # AES block size is 16 bytes, so IV is 16 bytes\n",
    "        cipher = Cipher(algorithms.AES(key), modes.CBC(iv), backend=default_backend())\n",
    "        encryptor = cipher.encryptor()\n",
    "        \n",
    "        padded_data = pad(str(value).encode())\n",
    "        encrypted_value = encryptor.update(padded_data) + encryptor.finalize()\n",
    "        \n",
    "        # Encode IV + encrypted value as a base64 string to store in CSV\n",
    "        encrypted_column.append(base64.b64encode(iv + encrypted_value).decode())\n",
    "    \n",
    "    # Replace the column in the DataFrame with the encrypted data\n",
    "    df[column_name] = encrypted_column\n",
    "    \n",
    "    # Save the encrypted CSV\n",
    "    df.to_csv(output_csv, index=False)\n",
    "    print(\"-\" * 100)\n",
    "    print(\"After\", \"\\n\", df.head())\n",
    "    print(f\"Encrypted column '{column_name}' and saved to {output_csv}\")"
   ]
  },
  {
   "cell_type": "code",
   "execution_count": 11,
   "id": "c2410423-d7a5-492d-8274-99541ebf5130",
   "metadata": {},
   "outputs": [],
   "source": [
    "# Step 4: Decrypt the column from an encrypted CSV\n",
    "def decrypt_column(input_csv, output_csv, column_name):\n",
    "    key = load_key()\n",
    "    \n",
    "    # Load the encrypted CSV\n",
    "    df = pd.read_csv(input_csv)\n",
    "    print(\"Before\", \"\\n\", df.head())\n",
    "    \n",
    "    # Decrypt the target column\n",
    "    decrypted_column = []\n",
    "    for encrypted_value in df[column_name]:\n",
    "        # Decode the base64 string to get IV + encrypted value\n",
    "        encrypted_data = base64.b64decode(encrypted_value)\n",
    "        iv = encrypted_data[:16]  # Extract IV (first 16 bytes)\n",
    "        encrypted_value = encrypted_data[16:]  # Extract encrypted data\n",
    "        \n",
    "        cipher = Cipher(algorithms.AES(key), modes.CBC(iv), backend=default_backend())\n",
    "        decryptor = cipher.decryptor()\n",
    "        \n",
    "        padded_data = decryptor.update(encrypted_value) + decryptor.finalize()\n",
    "        decrypted_value = unpad(padded_data).decode()  # Remove padding and decode to string\n",
    "        \n",
    "        decrypted_column.append(decrypted_value)\n",
    "    \n",
    "    # Replace the column in the DataFrame with the decrypted data\n",
    "    df[column_name] = decrypted_column\n",
    "    \n",
    "    # Save the decrypted CSV\n",
    "    df.to_csv(output_csv, index=False)\n",
    "    print(\"-\" * 100)\n",
    "    print(\"After\", \"\\n\", df.head())\n",
    "    print(f\"Decrypted column '{column_name}' and saved to {output_csv}\")"
   ]
  },
  {
   "cell_type": "markdown",
   "id": "47f86366-79c3-446a-beaf-7e1696beba0b",
   "metadata": {},
   "source": [
    "# Usage"
   ]
  },
  {
   "cell_type": "markdown",
   "id": "1e97777a-2600-4947-83a1-ba68fdefb7ce",
   "metadata": {},
   "source": [
    "#### Encrypt a column"
   ]
  },
  {
   "cell_type": "code",
   "execution_count": 12,
   "id": "25ad8f09-2672-4d61-ae6e-1c4197dcf1ac",
   "metadata": {},
   "outputs": [
    {
     "name": "stdout",
     "output_type": "stream",
     "text": [
      "Before \n",
      "    id   name sensitive_column\n",
      "0   1  Alice          Secret1\n",
      "1   2    Bob          Secret2\n",
      "----------------------------------------------------------------------------------------------------\n",
      "After \n",
      "    id   name                              sensitive_column\n",
      "0   1  Alice  N31AWykg3FOJ9bKQ+VXCJ+oTduAa7pQuPD5DLxwHTQw=\n",
      "1   2    Bob  KG242YkJ/9y9fAX3qb0Gr5Wum4tdZEshLh9JimvNeLw=\n",
      "Encrypted column 'sensitive_column' and saved to ./output/aes-256/encrypted.csv\n"
     ]
    }
   ],
   "source": [
    "encrypt_column(\"./data/mock-data.csv\", \"./output/aes-256/encrypted.csv\", \"sensitive_column\")"
   ]
  },
  {
   "cell_type": "markdown",
   "id": "3d165c51-9e84-440d-afe7-f98c7a25f01b",
   "metadata": {},
   "source": [
    "#### Decrypt the column"
   ]
  },
  {
   "cell_type": "code",
   "execution_count": 13,
   "id": "f611e211-2b22-4025-bb9c-8908f1eae17c",
   "metadata": {},
   "outputs": [
    {
     "name": "stdout",
     "output_type": "stream",
     "text": [
      "Before \n",
      "    id   name                              sensitive_column\n",
      "0   1  Alice  N31AWykg3FOJ9bKQ+VXCJ+oTduAa7pQuPD5DLxwHTQw=\n",
      "1   2    Bob  KG242YkJ/9y9fAX3qb0Gr5Wum4tdZEshLh9JimvNeLw=\n",
      "----------------------------------------------------------------------------------------------------\n",
      "After \n",
      "    id   name sensitive_column\n",
      "0   1  Alice          Secret1\n",
      "1   2    Bob          Secret2\n",
      "Decrypted column 'sensitive_column' and saved to ./output/aes-256/decrypted.csv\n"
     ]
    }
   ],
   "source": [
    "decrypt_column(\"./output/aes-256/encrypted.csv\", \"./output/aes-256/decrypted.csv\", \"sensitive_column\")"
   ]
  },
  {
   "cell_type": "code",
   "execution_count": null,
   "id": "ea162cfc-9146-4d31-9866-e248fee31cab",
   "metadata": {},
   "outputs": [],
   "source": []
  }
 ],
 "metadata": {
  "kernelspec": {
   "display_name": "Python 3 (ipykernel)",
   "language": "python",
   "name": "python3"
  },
  "language_info": {
   "codemirror_mode": {
    "name": "ipython",
    "version": 3
   },
   "file_extension": ".py",
   "mimetype": "text/x-python",
   "name": "python",
   "nbconvert_exporter": "python",
   "pygments_lexer": "ipython3",
   "version": "3.12.7"
  }
 },
 "nbformat": 4,
 "nbformat_minor": 5
}
