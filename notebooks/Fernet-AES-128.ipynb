{
 "cells": [
  {
   "cell_type": "code",
   "execution_count": 29,
   "id": "01fea77a-833e-4286-b6ad-80a30a850391",
   "metadata": {},
   "outputs": [],
   "source": [
    "from cryptography.fernet import Fernet\n",
    "import pandas as pd"
   ]
  },
  {
   "cell_type": "code",
   "execution_count": 4,
   "id": "4ac2dd25-1c59-49d9-bb55-ceda0b75e831",
   "metadata": {},
   "outputs": [],
   "source": [
    "# Step 1: Generate and save the key (run only once to create and save the key)\n",
    "def generate_key():\n",
    "    key = Fernet.generate_key()\n",
    "    print(key)\n",
    "    with open(\"./keys/secret.key\", \"wb\") as key_file:\n",
    "        key_file.write(key)\n",
    "\n",
    "# Uncomment to generate a new key\n",
    "# generate_key()"
   ]
  },
  {
   "cell_type": "code",
   "execution_count": 30,
   "id": "d071bcdd-ea16-44f1-8194-329141e52d7b",
   "metadata": {},
   "outputs": [],
   "source": [
    "# Step 2: Load the key\n",
    "def load_key():\n",
    "    with open(\"./keys/secret.key\", \"rb\") as key_file:\n",
    "        return key_file.read()"
   ]
  },
  {
   "cell_type": "code",
   "execution_count": 31,
   "id": "136e9cef-e884-4cc7-b5a6-f95bbd9a3931",
   "metadata": {},
   "outputs": [],
   "source": [
    "# Step 3: Encrypt a specific column in the CSV\n",
    "def encrypt_column(input_csv, output_csv, column_name):\n",
    "    # Load the key\n",
    "    key = load_key()\n",
    "    cipher = Fernet(key)\n",
    "    \n",
    "    # Load the CSV file\n",
    "    df = pd.read_csv(input_csv)\n",
    "    print(\"Before\", \"\\n\", df.head())\n",
    "    \n",
    "    # Encrypt the target column\n",
    "    df[column_name] = df[column_name].apply(lambda x: cipher.encrypt(str(x).encode()).decode())\n",
    "    \n",
    "    # Save the encrypted CSV\n",
    "    df.to_csv(output_csv, index=False)\n",
    "    print(\"-\" * 100)\n",
    "    print(\"After\", \"\\n\", df.head())\n",
    "    print(f\"Encrypted column '{column_name}' and saved to {output_csv}\")"
   ]
  },
  {
   "cell_type": "code",
   "execution_count": 35,
   "id": "5d67cfe0-a109-4d33-8f6e-85c9afaa2108",
   "metadata": {},
   "outputs": [],
   "source": [
    "# Step 4: Decrypt the column from an encrypted CSV\n",
    "def decrypt_column(input_csv, output_csv, column_name):\n",
    "    # Load the key\n",
    "    key = load_key()\n",
    "    cipher = Fernet(key)\n",
    "    \n",
    "    # Load the encrypted CSV\n",
    "    df = pd.read_csv(input_csv)\n",
    "    print(\"Before\", \"\\n\", df.head())\n",
    "    \n",
    "    # Decrypt the target column\n",
    "    df[column_name] = df[column_name].apply(lambda x: cipher.decrypt(x.encode()).decode())\n",
    "    \n",
    "    # Save the decrypted CSV\n",
    "    df.to_csv(output_csv, index=False)\n",
    "    print(\"-\" * 100)\n",
    "    print(\"After\", \"\\n\", df.head())\n",
    "    print(f\"Decrypted column '{column_name}' and saved to {output_csv}\")"
   ]
  },
  {
   "cell_type": "markdown",
   "id": "6ab9461f-0e45-4b35-8929-a41f21c20ff9",
   "metadata": {},
   "source": [
    "# Usage"
   ]
  },
  {
   "cell_type": "markdown",
   "id": "c8e1b96a-bc57-41de-8652-a2cf7f6cbd5d",
   "metadata": {},
   "source": [
    "#### Encrypt the column"
   ]
  },
  {
   "cell_type": "code",
   "execution_count": 36,
   "id": "307512c2-4621-4b5c-85b7-23390670dfd9",
   "metadata": {},
   "outputs": [
    {
     "name": "stdout",
     "output_type": "stream",
     "text": [
      "Before \n",
      "    id   name sensitive_column\n",
      "0   1  Alice          Secret1\n",
      "1   2    Bob          Secret2\n",
      "After \n",
      "    id   name                                   sensitive_column\n",
      "0   1  Alice  gAAAAABnHyNainiNzFPip8bYGbWmtpOeIkFXCJDdLH9Mzg...\n",
      "1   2    Bob  gAAAAABnHyNa-8S8NVUbAbXaeciTrux9IvrMkZZH_Hpnx6...\n",
      "Encrypted column 'sensitive_column' and saved to ./output/mock-data-encrypted.csv\n"
     ]
    }
   ],
   "source": [
    "encrypt_column(input_csv=\"./data/mock-data.csv\", output_csv=\"./output/mock-data-encrypted.csv\", column_name=\"sensitive_column\")"
   ]
  },
  {
   "cell_type": "markdown",
   "id": "94d7df69-b67c-4ed0-8534-c85cedaaedc0",
   "metadata": {},
   "source": [
    "#### Decrypt the column"
   ]
  },
  {
   "cell_type": "code",
   "execution_count": 37,
   "id": "fe3be13e-de89-443a-9f59-13146a1904ec",
   "metadata": {},
   "outputs": [
    {
     "name": "stdout",
     "output_type": "stream",
     "text": [
      "Before \n",
      "    id   name                                   sensitive_column\n",
      "0   1  Alice  gAAAAABnHyNainiNzFPip8bYGbWmtpOeIkFXCJDdLH9Mzg...\n",
      "1   2    Bob  gAAAAABnHyNa-8S8NVUbAbXaeciTrux9IvrMkZZH_Hpnx6...\n",
      "----------------------------------------------------------------------------------------------------\n",
      "After \n",
      "    id   name sensitive_column\n",
      "0   1  Alice          Secret1\n",
      "1   2    Bob          Secret2\n",
      "Decrypted column 'sensitive_column' and saved to ./output/mock-data-decrypted.csv\n"
     ]
    }
   ],
   "source": [
    "decrypt_column(\"./output/mock-data-encrypted.csv\", \"./output/mock-data-decrypted.csv\", \"sensitive_column\")"
   ]
  }
 ],
 "metadata": {
  "kernelspec": {
   "display_name": "Python 3 (ipykernel)",
   "language": "python",
   "name": "python3"
  },
  "language_info": {
   "codemirror_mode": {
    "name": "ipython",
    "version": 3
   },
   "file_extension": ".py",
   "mimetype": "text/x-python",
   "name": "python",
   "nbconvert_exporter": "python",
   "pygments_lexer": "ipython3",
   "version": "3.12.7"
  }
 },
 "nbformat": 4,
 "nbformat_minor": 5
}
